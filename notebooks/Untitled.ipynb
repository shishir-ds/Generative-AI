{
 "cells": [
  {
   "cell_type": "code",
   "execution_count": null,
   "id": "bcd899ec",
   "metadata": {},
   "outputs": [],
   "source": [
    "class Test:\n",
    "    def _init__(self,height=2,*wargs,**kwargs):\n",
    "        self."
   ]
  },
  {
   "cell_type": "code",
   "execution_count": null,
   "id": "56af1591",
   "metadata": {},
   "outputs": [],
   "source": []
  },
  {
   "cell_type": "code",
   "execution_count": 15,
   "id": "43b06ca8",
   "metadata": {},
   "outputs": [],
   "source": [
    "def xyz(k,*wargs,**kwargs):\n",
    "    for warg in wargs:\n",
    "        print(warg)"
   ]
  },
  {
   "cell_type": "code",
   "execution_count": 16,
   "id": "89aae57f",
   "metadata": {},
   "outputs": [],
   "source": [
    "dict1={'a':3,'b':23,'c':34}"
   ]
  },
  {
   "cell_type": "code",
   "execution_count": 17,
   "id": "537465e2",
   "metadata": {},
   "outputs": [
    {
     "name": "stdout",
     "output_type": "stream",
     "text": [
      "2\n",
      "3\n",
      "4\n",
      "5\n",
      "6\n",
      "7\n",
      "8\n",
      "9\n",
      "{'a': 3, 'b': 23, 'c': 34}\n"
     ]
    }
   ],
   "source": [
    "xyz(\"werty\",2,3,4,5,6,7,8,9,dict1)"
   ]
  },
  {
   "cell_type": "code",
   "execution_count": null,
   "id": "a9102109",
   "metadata": {},
   "outputs": [],
   "source": []
  },
  {
   "cell_type": "code",
   "execution_count": null,
   "id": "c92769a2",
   "metadata": {},
   "outputs": [],
   "source": []
  }
 ],
 "metadata": {
  "kernelspec": {
   "display_name": "Python 3 (ipykernel)",
   "language": "python",
   "name": "python3"
  },
  "language_info": {
   "codemirror_mode": {
    "name": "ipython",
    "version": 3
   },
   "file_extension": ".py",
   "mimetype": "text/x-python",
   "name": "python",
   "nbconvert_exporter": "python",
   "pygments_lexer": "ipython3",
   "version": "3.8.16"
  }
 },
 "nbformat": 4,
 "nbformat_minor": 5
}
